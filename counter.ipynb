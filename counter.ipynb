{
 "cells": [
  {
   "cell_type": "markdown",
   "id": "1d07afbe",
   "metadata": {},
   "source": [
    "1. Pandas as cache for most commonly used words\n",
    "2. I have 33x33 files with words, where name of each file corresponds\n",
    "   to first two letters of words\n",
    "3. Вариант: создавать пустой датафрейм и аппендить к нему колонки, а не строки"
   ]
  },
  {
   "cell_type": "code",
   "execution_count": 6,
   "id": "a810a806",
   "metadata": {
    "scrolled": true
   },
   "outputs": [],
   "source": [
    "import pandas as pd\n",
    "import glob\n",
    "from tqdm import tqdm"
   ]
  },
  {
   "cell_type": "code",
   "execution_count": 35,
   "id": "dcba5884",
   "metadata": {},
   "outputs": [],
   "source": [
    "mapping = {1: 'uni', 2: 'bi', 3: 'tri'}"
   ]
  },
  {
   "cell_type": "code",
   "execution_count": 45,
   "id": "63c43fb3",
   "metadata": {},
   "outputs": [],
   "source": [
    "def process_df(df, counts, total, n):\n",
    "    def process_row(row):\n",
    "        words = row.split()\n",
    "        for i in len(words) - (n - 1):\n",
    "            token = \" \".join([words[j] for j in range(i, i + n)])\n",
    "            if token in counts:\n",
    "                counts[token] += 1\n",
    "            else:\n",
    "                counts[token] = 1\n",
    "            total += 1\n",
    "            \n",
    "    df.apply(process_row)"
   ]
  },
  {
   "cell_type": "code",
   "execution_count": 46,
   "id": "0c4074ad",
   "metadata": {},
   "outputs": [],
   "source": [
    "def count_gram(n):\n",
    "    counts = {}\n",
    "    total = 0\n",
    "\n",
    "    for path in tqdm(glob.glob('datasets/*.csv')):\n",
    "        ser = pd.read_csv(\n",
    "            path, \n",
    "            header=None, \n",
    "            index_col=0, \n",
    "            squeeze=True\n",
    "        )\n",
    "        process_df(ser.dropna(), counts, total, n)\n",
    "        \n",
    "        counts['<total>'] = total\n",
    "\n",
    "    df = pd.DataFrame.from_dict(counts, orient='index', columns=['Count'])\n",
    "    df.to_csv('final_counts/' + mapping[n] + '_counts.csv')"
   ]
  },
  {
   "cell_type": "code",
   "execution_count": 37,
   "id": "367311bc",
   "metadata": {
    "scrolled": false
   },
   "outputs": [
    {
     "ename": "NameError",
     "evalue": "name 'count_gram' is not defined",
     "output_type": "error",
     "traceback": [
      "\u001b[0;31m---------------------------------------------------------------------------\u001b[0m",
      "\u001b[0;31mNameError\u001b[0m                                 Traceback (most recent call last)",
      "\u001b[0;32m/tmp/ipykernel_52926/3157294954.py\u001b[0m in \u001b[0;36m<module>\u001b[0;34m\u001b[0m\n\u001b[1;32m      1\u001b[0m \u001b[0;32mfor\u001b[0m \u001b[0mi\u001b[0m \u001b[0;32min\u001b[0m \u001b[0mrange\u001b[0m\u001b[0;34m(\u001b[0m\u001b[0;36m1\u001b[0m\u001b[0;34m,\u001b[0m \u001b[0;36m4\u001b[0m\u001b[0;34m)\u001b[0m\u001b[0;34m:\u001b[0m\u001b[0;34m\u001b[0m\u001b[0;34m\u001b[0m\u001b[0m\n\u001b[0;32m----> 2\u001b[0;31m     \u001b[0mcount_gram\u001b[0m\u001b[0;34m(\u001b[0m\u001b[0mi\u001b[0m\u001b[0;34m)\u001b[0m\u001b[0;34m\u001b[0m\u001b[0;34m\u001b[0m\u001b[0m\n\u001b[0m",
      "\u001b[0;31mNameError\u001b[0m: name 'count_gram' is not defined"
     ]
    }
   ],
   "source": [
    "for i in range(1, 4):\n",
    "    count_gram(i)"
   ]
  }
 ],
 "metadata": {
  "kernelspec": {
   "display_name": "Python 3 (ipykernel)",
   "language": "python",
   "name": "python3"
  },
  "language_info": {
   "codemirror_mode": {
    "name": "ipython",
    "version": 3
   },
   "file_extension": ".py",
   "mimetype": "text/x-python",
   "name": "python",
   "nbconvert_exporter": "python",
   "pygments_lexer": "ipython3",
   "version": "3.9.7"
  }
 },
 "nbformat": 4,
 "nbformat_minor": 5
}
