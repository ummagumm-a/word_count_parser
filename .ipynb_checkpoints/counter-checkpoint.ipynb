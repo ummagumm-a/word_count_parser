{
 "cells": [
  {
   "cell_type": "markdown",
   "id": "1d07afbe",
   "metadata": {},
   "source": [
    "1. Pandas as cache for most commonly used words\n",
    "2. I have 33x33 files with words, where name of each file corresponds\n",
    "   to first two letters of words\n",
    "3. Вариант: создавать пустой датафрейм и аппендить к нему колонки, а не строки"
   ]
  },
  {
   "cell_type": "code",
   "execution_count": 15,
   "id": "2e19b8db",
   "metadata": {},
   "outputs": [],
   "source": [
    "alphabet = 'абвгдеёжзиклмнопрстуфхцчшщьыъэюя'\n",
    "names = list(alphabet) + [a + b \n",
    "                          for a in alphabet \n",
    "                          for b in alphabet\n",
    "                          if a not in 'ьыъ']\n",
    "for single in names:\n",
    "    df = pd.DataFrame()\n",
    "    df.to_csv('voc1/' + single + '.csv')"
   ]
  },
  {
   "cell_type": "code",
   "execution_count": 5,
   "id": "a810a806",
   "metadata": {},
   "outputs": [],
   "source": [
    "import pandas as pd"
   ]
  },
  {
   "cell_type": "code",
   "execution_count": 16,
   "id": "4a505841",
   "metadata": {
    "scrolled": false
   },
   "outputs": [
    {
     "data": {
      "text/html": [
       "<div><strong>Dask DataFrame Structure:</strong></div>\n",
       "<div>\n",
       "<style scoped>\n",
       "    .dataframe tbody tr th:only-of-type {\n",
       "        vertical-align: middle;\n",
       "    }\n",
       "\n",
       "    .dataframe tbody tr th {\n",
       "        vertical-align: top;\n",
       "    }\n",
       "\n",
       "    .dataframe thead th {\n",
       "        text-align: right;\n",
       "    }\n",
       "</style>\n",
       "<table border=\"1\" class=\"dataframe\">\n",
       "  <thead>\n",
       "    <tr style=\"text-align: right;\">\n",
       "      <th></th>\n",
       "      <th>Unnamed: 0</th>\n",
       "    </tr>\n",
       "    <tr>\n",
       "      <th>npartitions=960</th>\n",
       "      <th></th>\n",
       "    </tr>\n",
       "  </thead>\n",
       "  <tbody>\n",
       "    <tr>\n",
       "      <th></th>\n",
       "      <td>object</td>\n",
       "    </tr>\n",
       "    <tr>\n",
       "      <th></th>\n",
       "      <td>...</td>\n",
       "    </tr>\n",
       "    <tr>\n",
       "      <th>...</th>\n",
       "      <td>...</td>\n",
       "    </tr>\n",
       "    <tr>\n",
       "      <th></th>\n",
       "      <td>...</td>\n",
       "    </tr>\n",
       "    <tr>\n",
       "      <th></th>\n",
       "      <td>...</td>\n",
       "    </tr>\n",
       "  </tbody>\n",
       "</table>\n",
       "</div>\n",
       "<div>Dask Name: read-csv, 960 tasks</div>"
      ],
      "text/plain": [
       "Dask DataFrame Structure:\n",
       "                Unnamed: 0\n",
       "npartitions=960           \n",
       "                    object\n",
       "                       ...\n",
       "...                    ...\n",
       "                       ...\n",
       "                       ...\n",
       "Dask Name: read-csv, 960 tasks"
      ]
     },
     "execution_count": 16,
     "metadata": {},
     "output_type": "execute_result"
    }
   ],
   "source": [
    "counts_df = dd.read_csv('voc1/*.csv')\n",
    "counts_df"
   ]
  },
  {
   "cell_type": "code",
   "execution_count": 11,
   "id": "2abd7603",
   "metadata": {},
   "outputs": [],
   "source": [
    "def process_uni(df, counts, total):\n",
    "    def process_row(row):\n",
    "        words = row.split()\n",
    "        for word in words:\n",
    "            if word != '.':\n",
    "                if word in counts:\n",
    "                    counts[word] += 1\n",
    "                else:\n",
    "                    counts[word] = 1\n",
    "                total += 1\n",
    "                \n",
    "    df.apply(process_row)"
   ]
  },
  {
   "cell_type": "code",
   "execution_count": 23,
   "id": "af40d47a",
   "metadata": {},
   "outputs": [],
   "source": [
    "import glob"
   ]
  },
  {
   "cell_type": "code",
   "execution_count": 24,
   "id": "d2611d18",
   "metadata": {},
   "outputs": [],
   "source": [
    "def count_uni():\n",
    "    counts = {}\n",
    "    total = 0\n",
    "\n",
    "    for path in glob.glob('datasets/*.csv'):\n",
    "        ser = pd.read_csv(\n",
    "            path, \n",
    "            header=None, \n",
    "            index_col=0, \n",
    "            squeeze=True\n",
    "        )\n",
    "        process_uni(ser.dropna(), counts, total)\n",
    "    \n",
    "    counts['<total>'] = total\n",
    "    df = pd.DataFrame.from_dict(counts, orient='index', columns=['Count'])\n",
    "    df.to_csv('final_counts/uni_counts.csv')"
   ]
  },
  {
   "cell_type": "code",
   "execution_count": null,
   "id": "d9788c1c",
   "metadata": {},
   "outputs": [],
   "source": [
    "def process_bi(df, counts, total):\n",
    "    def process_row(row):\n",
    "        words = row.split()\n",
    "        for i in len(words) - 1:\n",
    "            bigram = words[i] + words[i + 1]\n",
    "            if bigram in counts:\n",
    "                counts[bigram] += 1\n",
    "            else:\n",
    "                counts[bigram] = 1\n",
    "            total += 1\n",
    "            \n",
    "    df.apply(process_row)"
   ]
  },
  {
   "cell_type": "code",
   "execution_count": null,
   "id": "96e9403f",
   "metadata": {},
   "outputs": [],
   "source": [
    "def count_bi():\n",
    "    counts = {}\n",
    "\n",
    "    for path in glob.glob('datasets/*.csv'):\n",
    "        ser = pd.read_csv(\n",
    "            path, \n",
    "            header=None, \n",
    "            index_col=0, \n",
    "            squeeze=True\n",
    "        )\n",
    "        process_df(ser.dropna())\n",
    "        \n",
    "        counts['<total>'] = total\n",
    "\n",
    "    df = pd.DataFrame.from_dict(counts, orient='index', columns=['Count'])\n",
    "    df.to_csv('final_counts/bi_counts.csv')"
   ]
  },
  {
   "cell_type": "code",
   "execution_count": null,
   "id": "a1d7ed91",
   "metadata": {},
   "outputs": [],
   "source": [
    "def process_tri(df, counts, total):\n",
    "    def process_row(row):\n",
    "        words = row.split()\n",
    "        for i in len(words) - 1:\n",
    "            bigram = words[i] + words[i + 1]\n",
    "            if bigram in counts:\n",
    "                counts[bigram] += 1\n",
    "            else:\n",
    "                counts[bigram] = 1\n",
    "            total += 1\n",
    "            \n",
    "    df.apply(process_row)"
   ]
  },
  {
   "cell_type": "code",
   "execution_count": null,
   "id": "38212fdd",
   "metadata": {},
   "outputs": [],
   "source": [
    "def count_tri():\n",
    "    counts = {}\n",
    "\n",
    "    for path in glob.glob('datasets/*.csv'):\n",
    "        ser = pd.read_csv(\n",
    "            path, \n",
    "            header=None, \n",
    "            index_col=0, \n",
    "            squeeze=True\n",
    "        )\n",
    "        process_df(ser.dropna())\n",
    "        \n",
    "        counts['<total>'] = total\n",
    "\n",
    "    df = pd.DataFrame.from_dict(counts, orient='index', columns=['Count'])\n",
    "    df.to_csv('final_counts/tri_counts.csv')"
   ]
  }
 ],
 "metadata": {
  "kernelspec": {
   "display_name": "Python 3 (ipykernel)",
   "language": "python",
   "name": "python3"
  },
  "language_info": {
   "codemirror_mode": {
    "name": "ipython",
    "version": 3
   },
   "file_extension": ".py",
   "mimetype": "text/x-python",
   "name": "python",
   "nbconvert_exporter": "python",
   "pygments_lexer": "ipython3",
   "version": "3.9.7"
  }
 },
 "nbformat": 4,
 "nbformat_minor": 5
}
